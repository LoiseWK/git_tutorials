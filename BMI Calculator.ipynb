{
 "cells": [
  {
   "cell_type": "markdown",
   "id": "67de2a9b-8c05-4671-97d3-9b747a108714",
   "metadata": {},
   "source": [
    "# BMI Calculator"
   ]
  },
  {
   "cell_type": "code",
   "execution_count": 1,
   "id": "fe7e2f60-5353-449f-b978-57c270175ebe",
   "metadata": {},
   "outputs": [
    {
     "name": "stdin",
     "output_type": "stream",
     "text": [
      "what is your name:  Loise\n"
     ]
    },
    {
     "name": "stdout",
     "output_type": "stream",
     "text": [
      "Hello Loise. Welcome to our BMI calculation system\n"
     ]
    }
   ],
   "source": [
    "name= input (\"what is your name: \")\n",
    "print(f\"Hello {name}. Welcome to our BMI calculation system\")\n"
   ]
  },
  {
   "cell_type": "code",
   "execution_count": 14,
   "id": "4d80f909-74f1-46c7-83a4-608e30b7af3d",
   "metadata": {},
   "outputs": [
    {
     "name": "stdout",
     "output_type": "stream",
     "text": [
      "Provide us with the information below: \n"
     ]
    },
    {
     "name": "stdin",
     "output_type": "stream",
     "text": [
      "Enter your weight: Kgs  55\n",
      "Enter your height:meters  1.6\n"
     ]
    },
    {
     "name": "stdout",
     "output_type": "stream",
     "text": [
      "*******BMI RESULT ******\n",
      "Your BMI is 21.48.\n",
      "Normal\n"
     ]
    }
   ],
   "source": [
    "print(\"Provide us with the information below: \")\n",
    "weight= float(input(\"Enter your weight: Kgs \"))\n",
    "Height= float(input(\"Enter your height:meters \"))\n",
    "\n",
    "print(\"*******BMI RESULT ******\")\n",
    "BMI=round(weight/(Height*Height),2)\n",
    "print(f\"Your BMI is {BMI}.\")\n",
    "if BMI >25:\n",
    "    print(\"Overwight\")\n",
    "if BMI < 18:\n",
    "    print(\"Underweight\")\n",
    "else:\n",
    "    print(\"Normal\")\n",
    "    "
   ]
  },
  {
   "cell_type": "code",
   "execution_count": null,
   "id": "a61dc103-0797-49ab-8f03-1d079cbc2ea9",
   "metadata": {},
   "outputs": [],
   "source": []
  }
 ],
 "metadata": {
  "kernelspec": {
   "display_name": "Python 3 (ipykernel)",
   "language": "python",
   "name": "python3"
  },
  "language_info": {
   "codemirror_mode": {
    "name": "ipython",
    "version": 3
   },
   "file_extension": ".py",
   "mimetype": "text/x-python",
   "name": "python",
   "nbconvert_exporter": "python",
   "pygments_lexer": "ipython3",
   "version": "3.11.7"
  }
 },
 "nbformat": 4,
 "nbformat_minor": 5
}
